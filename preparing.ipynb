{
 "cells": [
  {
   "cell_type": "code",
   "execution_count": null,
   "metadata": {
    "vscode": {
     "languageId": "plaintext"
    }
   },
   "outputs": [],
   "source": [
    "grouped = data.groupby('user_id')\n"
   ]
  },
  {
   "cell_type": "code",
   "execution_count": null,
   "metadata": {
    "vscode": {
     "languageId": "plaintext"
    }
   },
   "outputs": [],
   "source": [
    "def create_sequences(data, window_size, target_cols):\n",
    "    sequences = []\n",
    "    labels = []\n",
    "    for _, group in data.groupby('user_id'):  # Группировка по пользователям\n",
    "        group = group.reset_index(drop=True)\n",
    "        for i in range(len(group) - window_size):\n",
    "            seq = group.iloc[i:i + window_size].drop(columns=['user_id'] + target_cols)\n",
    "            label = group.iloc[i + window_size][target_cols].values\n",
    "            sequences.append(seq.values)\n",
    "            labels.append(label)\n",
    "    return np.array(sequences), np.array(labels)\n",
    "\n",
    "# Пример вызова\n",
    "target_cols = ['attack', 'anomaly']  # Несколько целевых колонок\n",
    "X, y = create_sequences(data, window_size=10, target_cols=target_cols)\n"
   ]
  },
  {
   "cell_type": "code",
   "execution_count": null,
   "metadata": {
    "vscode": {
     "languageId": "plaintext"
    }
   },
   "outputs": [],
   "source": [
    "class RNNModel(nn.Module):\n",
    "    def __init__(self, input_dim, hidden_dim, output_dim, num_layers):\n",
    "        super(RNNModel, self).__init__()\n",
    "        self.rnn = nn.GRU(input_dim, hidden_dim, num_layers, batch_first=True)\n",
    "        self.fc = nn.Linear(hidden_dim, output_dim)  # output_dim = len(target_cols)\n",
    "    \n",
    "    def forward(self, x):\n",
    "        out, _ = self.rnn(x)\n",
    "        out = self.fc(out[:, -1, :])  # Последний временной шаг\n",
    "        return out\n",
    "\n",
    "# Инициализация модели\n",
    "input_dim = X.shape[2]\n",
    "hidden_dim = 64\n",
    "output_dim = len(target_cols)  # Количество целевых колонок\n",
    "num_layers = 2\n",
    "\n",
    "model = RNNModel(input_dim, hidden_dim, output_dim, num_layers)\n"
   ]
  },
  {
   "cell_type": "code",
   "execution_count": null,
   "metadata": {
    "vscode": {
     "languageId": "plaintext"
    }
   },
   "outputs": [],
   "source": [
    "criterion = nn.BCEWithLogitsLoss()  # Пример для бинарных меток\n",
    "\n",
    "def compute_loss(outputs, targets):\n",
    "    return criterion(outputs, targets)\n",
    "\n",
    "# Пример обучения\n",
    "optimizer = torch.optim.Adam(model.parameters(), lr=0.001)\n",
    "\n",
    "def train_model(model, X_train, y_train, criterion, optimizer, epochs=10):\n",
    "    model.train()\n",
    "    for epoch in range(epochs):\n",
    "        inputs = torch.tensor(X_train, dtype=torch.float32)\n",
    "        targets = torch.tensor(y_train, dtype=torch.float32)\n",
    "        \n",
    "        optimizer.zero_grad()\n",
    "        outputs = model(inputs)\n",
    "        loss = compute_loss(outputs, targets)\n",
    "        loss.backward()\n",
    "        optimizer.step()\n",
    "        print(f'Epoch {epoch+1}, Loss: {loss.item()}')\n",
    "\n",
    "train_model(model, X_train, y_train, criterion, optimizer)\n"
   ]
  },
  {
   "cell_type": "code",
   "execution_count": null,
   "metadata": {
    "vscode": {
     "languageId": "plaintext"
    }
   },
   "outputs": [],
   "source": [
    "from sklearn.metrics import roc_auc_score\n",
    "\n",
    "y_pred = model(torch.tensor(X_test, dtype=torch.float32)).sigmoid().detach().numpy()\n",
    "\n",
    "# AUC-ROC для каждой метки\n",
    "for i, col in enumerate(target_cols):\n",
    "    auc = roc_auc_score(y_test[:, i], y_pred[:, i])\n",
    "    print(f'{col}: AUC-ROC = {auc}')\n"
   ]
  }
 ],
 "metadata": {
  "language_info": {
   "name": "python"
  }
 },
 "nbformat": 4,
 "nbformat_minor": 2
}
